{
 "cells": [
  {
   "cell_type": "code",
   "execution_count": 1,
   "metadata": {},
   "outputs": [],
   "source": [
    "import os\n",
    "import caffe\n",
    "import numpy as np\n",
    "import matplotlib.pyplot as plt\n",
    "%matplotlib inline\n",
    "\n",
    "plt.rcParams['figure.figsize'] = (10, 10)\n",
    "plt.rcParams['image.interpolation'] = 'nearest'\n",
    "plt.rcParams['image.cmap'] = 'gray'\n",
    "\n",
    "hard_inception = False"
   ]
  },
  {
   "cell_type": "code",
   "execution_count": 2,
   "metadata": {},
   "outputs": [],
   "source": [
    "untrimmednet_model_root = os.path.join('/src','untrimmednet', 'models')\n",
    "model_name = 'temporal_untrimmednet_%s_bn_inception' % ('hard' if hard_inception else 'soft')\n",
    "untrimmednet_model_soft_weights = os.path.join(untrimmednet_model_root, 'anet1.2_%s.caffemodel'%model_name)\n",
    "untrimmednet_model_soft_definition = os.path.join(untrimmednet_model_root, '%s_train_val.prototxt'%model_name)\n",
    "\n"
   ]
  },
  {
   "cell_type": "code",
   "execution_count": 3,
   "metadata": {},
   "outputs": [],
   "source": [
    "if not os.path.isfile(untrimmednet_model_soft_weights) or not os.path.isfile(untrimmednet_model_soft_definition):\n",
    "    print(\"Downloading pre-trained CaffeNet model...\")\n",
    "    !scripts/get_reference_model_anet.sh"
   ]
  },
  {
   "cell_type": "code",
   "execution_count": null,
   "metadata": {},
   "outputs": [],
   "source": [
    "caffe.set_device(0)\n",
    "caffe.set_mode_gpu()\n",
    "net = caffe.Net(untrimmednet_model_soft_definition,\n",
    "                untrimmednet_model_soft_weights,\n",
    "                caffe.TEST)"
   ]
  },
  {
   "cell_type": "code",
   "execution_count": null,
   "metadata": {},
   "outputs": [],
   "source": []
  }
 ],
 "metadata": {
  "kernelspec": {
   "display_name": "Python 3",
   "language": "python",
   "name": "python3"
  },
  "language_info": {
   "codemirror_mode": {
    "name": "ipython",
    "version": 3
   },
   "file_extension": ".py",
   "mimetype": "text/x-python",
   "name": "python",
   "nbconvert_exporter": "python",
   "pygments_lexer": "ipython3",
   "version": "3.6.10"
  }
 },
 "nbformat": 4,
 "nbformat_minor": 4
}
